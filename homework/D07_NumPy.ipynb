{
 "cells": [
  {
   "cell_type": "markdown",
   "metadata": {
    "colab_type": "text",
    "id": "P6xk2_jLsvFF"
   },
   "source": [
    "# [作業目標]\n",
    "\n",
    "1. 請比較對一個 100 x 100 * 100 的陣列，使用不同方法對每一個元素 +1 的時間比較。\n",
    "\n",
    "2. 如何從一個陣列中，找出出現頻率最高的數值與位置？\n",
    "\n",
    "3. 如何利用 list(...) 實現 a.tolist() 的效果？試著用程式實作。\n"
   ]
  },
  {
   "cell_type": "markdown",
   "metadata": {
    "colab_type": "text",
    "id": "uXGll28asvFS"
   },
   "source": [
    "# 作業 "
   ]
  },
  {
   "cell_type": "markdown",
   "metadata": {},
   "source": [
    "### 1. 請比較對一個 1000 x 100 x 100 的陣列，使用不同方法對每一個元素 +1 的時間比較。\n",
    "\n",
    "\n"
   ]
  },
  {
   "cell_type": "code",
   "execution_count": 1,
   "metadata": {},
   "outputs": [],
   "source": [
    "# 記得先 Import 正確的套件\n",
    "import numpy as np"
   ]
  },
  {
   "cell_type": "code",
   "execution_count": 4,
   "metadata": {
    "colab": {},
    "colab_type": "code",
    "id": "5QrYoyNWsvFS"
   },
   "outputs": [
    {
     "data": {
      "text/plain": [
       "array([[[1, 1, 7, ..., 1, 2, 1],\n",
       "        [7, 1, 1, ..., 4, 5, 3],\n",
       "        [0, 2, 1, ..., 0, 5, 5],\n",
       "        ...,\n",
       "        [1, 9, 7, ..., 5, 9, 1],\n",
       "        [4, 9, 1, ..., 3, 6, 5],\n",
       "        [8, 9, 8, ..., 5, 5, 3]],\n",
       "\n",
       "       [[3, 4, 7, ..., 7, 0, 0],\n",
       "        [7, 2, 3, ..., 8, 7, 1],\n",
       "        [0, 4, 0, ..., 5, 5, 1],\n",
       "        ...,\n",
       "        [7, 0, 5, ..., 3, 1, 5],\n",
       "        [1, 9, 9, ..., 0, 9, 0],\n",
       "        [6, 6, 0, ..., 0, 0, 1]],\n",
       "\n",
       "       [[5, 4, 7, ..., 0, 7, 6],\n",
       "        [5, 7, 4, ..., 4, 1, 0],\n",
       "        [9, 2, 0, ..., 6, 6, 5],\n",
       "        ...,\n",
       "        [8, 5, 9, ..., 7, 5, 9],\n",
       "        [5, 5, 2, ..., 8, 3, 5],\n",
       "        [2, 6, 2, ..., 4, 8, 5]],\n",
       "\n",
       "       ...,\n",
       "\n",
       "       [[9, 2, 9, ..., 8, 4, 6],\n",
       "        [1, 9, 4, ..., 0, 0, 1],\n",
       "        [8, 5, 2, ..., 0, 0, 8],\n",
       "        ...,\n",
       "        [6, 0, 6, ..., 9, 2, 2],\n",
       "        [3, 2, 7, ..., 8, 5, 1],\n",
       "        [5, 0, 6, ..., 0, 0, 9]],\n",
       "\n",
       "       [[2, 2, 5, ..., 8, 2, 6],\n",
       "        [2, 6, 4, ..., 1, 9, 9],\n",
       "        [5, 4, 3, ..., 0, 2, 4],\n",
       "        ...,\n",
       "        [8, 0, 1, ..., 3, 9, 3],\n",
       "        [5, 6, 8, ..., 8, 9, 5],\n",
       "        [8, 6, 9, ..., 8, 5, 3]],\n",
       "\n",
       "       [[3, 3, 6, ..., 9, 4, 4],\n",
       "        [7, 4, 4, ..., 1, 1, 0],\n",
       "        [8, 8, 8, ..., 8, 9, 1],\n",
       "        ...,\n",
       "        [2, 1, 0, ..., 5, 7, 3],\n",
       "        [0, 8, 1, ..., 0, 5, 0],\n",
       "        [7, 4, 4, ..., 5, 5, 9]]])"
      ]
     },
     "execution_count": 4,
     "metadata": {},
     "output_type": "execute_result"
    }
   ],
   "source": [
    "Z = np.random.randint(0, 10, 10000000).reshape(1000, 100, 100)\n",
    "Z"
   ]
  },
  {
   "cell_type": "code",
   "execution_count": 5,
   "metadata": {},
   "outputs": [
    {
     "name": "stdout",
     "output_type": "stream",
     "text": [
      "21.4 ns ± 8.33 ns per loop (mean ± std. dev. of 7 runs, 10 loops each)\n"
     ]
    }
   ],
   "source": [
    "%timeit -n 10 a = 2\n",
    "\n",
    "# 迴圈方法\n",
    "for i in Z:\n",
    "    for j in i:\n",
    "        for k in j:\n",
    "            i += 1"
   ]
  },
  {
   "cell_type": "code",
   "execution_count": 7,
   "metadata": {},
   "outputs": [
    {
     "name": "stdout",
     "output_type": "stream",
     "text": [
      "24.3 ns ± 7.28 ns per loop (mean ± std. dev. of 7 runs, 10 loops each)\n"
     ]
    }
   ],
   "source": [
    "%timeit -n 10 a = 2\n",
    "\n",
    "# 攤平方法\n",
    "for i in Z.flat:\n",
    "    i += 1"
   ]
  },
  {
   "cell_type": "code",
   "execution_count": 8,
   "metadata": {},
   "outputs": [
    {
     "name": "stdout",
     "output_type": "stream",
     "text": [
      "21.4 ns ± 8.33 ns per loop (mean ± std. dev. of 7 runs, 10 loops each)\n"
     ]
    }
   ],
   "source": [
    "%timeit -n 10 a = 2\n",
    "\n",
    "# 迭代方法\n",
    "for i in np.nditer(Z):    \n",
    "    i = i + 1"
   ]
  },
  {
   "cell_type": "markdown",
   "metadata": {},
   "source": [
    "### 2. 如何從一個陣列中，找出出現頻率最高的數值與位置？\n"
   ]
  },
  {
   "cell_type": "code",
   "execution_count": 21,
   "metadata": {
    "colab": {},
    "colab_type": "code",
    "id": "e1gVI0tvsvFY"
   },
   "outputs": [
    {
     "name": "stdout",
     "output_type": "stream",
     "text": [
      "[7 8 6 5 5 5 4 1 3 2 1 6 6 1 6 9 5 7 5 2 9 2 2 3 8 6 5 0 1 6 1 0 0 9 9 6 7\n",
      " 3 1 5 4 2 6 7 9 0 5 7 4 1]\n"
     ]
    }
   ],
   "source": [
    "Z = np.random.randint(0,10,50)\n",
    "print(Z)"
   ]
  },
  {
   "cell_type": "code",
   "execution_count": 22,
   "metadata": {},
   "outputs": [
    {
     "data": {
      "text/plain": [
       "5"
      ]
     },
     "execution_count": 22,
     "metadata": {},
     "output_type": "execute_result"
    }
   ],
   "source": [
    "a = (np.bincount(Z).argmax())\n",
    "a"
   ]
  },
  {
   "cell_type": "code",
   "execution_count": 23,
   "metadata": {},
   "outputs": [
    {
     "data": {
      "text/plain": [
       "array([ 3,  4,  5, 16, 18, 26, 39, 46], dtype=int64)"
      ]
     },
     "execution_count": 23,
     "metadata": {},
     "output_type": "execute_result"
    }
   ],
   "source": [
    "np.where(Z == a)[0]"
   ]
  },
  {
   "cell_type": "markdown",
   "metadata": {},
   "source": [
    "### 3. 如何利用 list(...) 實現 a.tolist() 的效果？試著用程式實作。\n"
   ]
  },
  {
   "cell_type": "code",
   "execution_count": 25,
   "metadata": {},
   "outputs": [
    {
     "name": "stdout",
     "output_type": "stream",
     "text": [
      "[7, 0, 8, 2, 1, 7]\n",
      "[7, 0, 8, 2, 1, 7]\n",
      "[[7, 7, 1, 4], [7, 5, 9, 7], [0, 0, 7, 0]]\n",
      "[array([7, 7, 1, 4]), array([7, 5, 9, 7]), array([0, 0, 7, 0])]\n",
      "[[[9, 7], [9, 1], [3, 1]], [[7, 4], [0, 6], [3, 6]]]\n",
      "[array([[9, 7],\n",
      "       [9, 1],\n",
      "       [3, 1]]), array([[7, 4],\n",
      "       [0, 6],\n",
      "       [3, 6]])]\n"
     ]
    }
   ],
   "source": [
    "a = np.random.randint(10, size=6) \n",
    "\n",
    "print(a.tolist())\n",
    "print(list(a))\n",
    "\n",
    "\n",
    "b = np.random.randint(10, size=(3,4)) \n",
    "\n",
    "print(b.tolist())\n",
    "print(list(b))\n",
    "\n",
    "\n",
    "c = np.random.randint(10, size=(2,3,2)) \n",
    "\n",
    "print(c.tolist())\n",
    "print(list(c))\n"
   ]
  },
  {
   "cell_type": "code",
   "execution_count": 26,
   "metadata": {},
   "outputs": [
    {
     "name": "stdout",
     "output_type": "stream",
     "text": [
      "[7, 0, 8, 2, 1, 7]\n",
      "[[7, 7, 1, 4], [7, 5, 9, 7], [0, 0, 7, 0]]\n",
      "[[[9, 7], [9, 1], [3, 1]], [[7, 4], [0, 6], [3, 6]]]\n"
     ]
    }
   ],
   "source": [
    "def tolist(iterable):\n",
    "    if type(iterable) != np.ndarray:\n",
    "        return iterable\n",
    "    return [tolist(obj) for obj in iterable]\n",
    "\n",
    "print(tolist(a))\n",
    "print(tolist(b))\n",
    "print(tolist(c))"
   ]
  },
  {
   "cell_type": "code",
   "execution_count": null,
   "metadata": {},
   "outputs": [],
   "source": []
  }
 ],
 "metadata": {
  "colab": {
   "name": "Day_023_HW.ipynb",
   "provenance": []
  },
  "kernelspec": {
   "display_name": "Python 3",
   "language": "python",
   "name": "python3"
  },
  "language_info": {
   "codemirror_mode": {
    "name": "ipython",
    "version": 3
   },
   "file_extension": ".py",
   "mimetype": "text/x-python",
   "name": "python",
   "nbconvert_exporter": "python",
   "pygments_lexer": "ipython3",
   "version": "3.7.10"
  }
 },
 "nbformat": 4,
 "nbformat_minor": 1
}
