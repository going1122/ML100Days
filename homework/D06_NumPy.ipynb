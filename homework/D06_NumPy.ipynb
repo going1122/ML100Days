{
 "cells": [
  {
   "cell_type": "markdown",
   "metadata": {
    "id": "P6xk2_jLsvFF"
   },
   "source": [
    "# [作業目標]\n",
    "\n",
    "1. [簡答題] 請問下列這三種方法有什麼不同？\n",
    "\n",
    "```\n",
    "print(a.sum()) \n",
    "print(np.sum(a))\n",
    "print(sum(a)) \n",
    "```\n",
    "\n",
    "2. 請對一個 5x5 的隨機矩陣作正規化的操作。\n",
    "\n",
    "3. 請建立一個長度等於 10 的正整數向量，並且將其中的最大值改成 -1。\n"
   ]
  },
  {
   "cell_type": "markdown",
   "metadata": {
    "id": "uXGll28asvFS"
   },
   "source": [
    "# 作業 "
   ]
  },
  {
   "cell_type": "markdown",
   "metadata": {
    "id": "lbz8VjL6jxyL"
   },
   "source": [
    "### 1. [簡答題] 請問下列這三種方法有什麼不同？\n",
    "\n",
    "```\n",
    "print(a.sum()) \n",
    "print(np.sum(a))\n",
    "print(sum(a)) \n",
    "```\n",
    "\n"
   ]
  },
  {
   "cell_type": "markdown",
   "metadata": {
    "id": "5QrYoyNWsvFS",
    "outputId": "e9e14d36-38ce-4ce5-edf2-3c7b129db580"
   },
   "source": [
    "- sum()是Python內建的函式，所有型態皆可以用。\n",
    "- np.sum(a)跟sum(a)是陣列的函式，差別在於定義在np 或是 array之下。"
   ]
  },
  {
   "cell_type": "markdown",
   "metadata": {
    "id": "vVrjBXabjxyS"
   },
   "source": [
    "### 2. 請對一個 5x5 的隨機矩陣作正規化的操作。\n"
   ]
  },
  {
   "cell_type": "code",
   "execution_count": 1,
   "metadata": {
    "id": "ffDRVHs9jxyS"
   },
   "outputs": [],
   "source": [
    "# 記得先 Import 正確的套件\n",
    "\n",
    "import numpy as np"
   ]
  },
  {
   "cell_type": "code",
   "execution_count": 4,
   "metadata": {
    "id": "e1gVI0tvsvFY",
    "outputId": "43bf676f-fd04-4edf-c062-b5fe7fe1f4bf"
   },
   "outputs": [
    {
     "name": "stdout",
     "output_type": "stream",
     "text": [
      "[[0.13652102 0.40268825 0.15655425 0.58389094 0.50833515]\n",
      " [0.20319522 0.2896717  0.40250659 0.87387124 0.70273396]\n",
      " [0.40945227 0.3582164  0.16355667 0.27049494 0.76966874]\n",
      " [0.39126062 0.35768211 0.30684214 0.18210558 0.86267736]\n",
      " [0.66638746 0.19628987 0.23375652 0.17222202 0.6980108 ]]\n",
      "[[0.         0.36097802 0.02716921 0.6067265  0.50425716]\n",
      " [0.09042406 0.20770411 0.36073165 1.         0.76790231]\n",
      " [0.37015144 0.30066496 0.03666595 0.18169645 0.85867977]\n",
      " [0.34547978 0.29994035 0.2309908  0.06182213 0.98481877]\n",
      " [0.71860891 0.08105896 0.13187152 0.04841797 0.76149673]]\n"
     ]
    }
   ],
   "source": [
    "a = np.random.random((5, 5))\n",
    "print(a)\n",
    "\n",
    "b = (a - a.min()) / (a.max() - a.min())\n",
    "print(b)"
   ]
  },
  {
   "cell_type": "markdown",
   "metadata": {
    "id": "Ptc3ZrNQjxyU"
   },
   "source": [
    "### 3. 請建立一個長度等於 10 的正整數向量，並且將其中的最大值改成 -1。\n"
   ]
  },
  {
   "cell_type": "code",
   "execution_count": 6,
   "metadata": {
    "id": "Yu1kbLxojxyU",
    "outputId": "d323e754-178a-46ae-e15e-98275ae220dd"
   },
   "outputs": [
    {
     "name": "stdout",
     "output_type": "stream",
     "text": [
      "[0.51083016 0.10396543 0.37005143 0.7980021  0.28670391 0.67449402\n",
      " 0.06800011 0.83941937 0.60685408 0.99885811]\n",
      "[ 0.51083016  0.10396543  0.37005143  0.7980021   0.28670391  0.67449402\n",
      "  0.06800011  0.83941937  0.60685408 -1.        ]\n"
     ]
    }
   ],
   "source": [
    "c = np.random.random(10)\n",
    "print(c)\n",
    "\n",
    "c[c.argmax()]=-1\n",
    "print(c)"
   ]
  }
 ],
 "metadata": {
  "colab": {
   "name": "06 Homework_維元.ipynb",
   "provenance": []
  },
  "kernelspec": {
   "display_name": "Python 3",
   "language": "python",
   "name": "python3"
  },
  "language_info": {
   "codemirror_mode": {
    "name": "ipython",
    "version": 3
   },
   "file_extension": ".py",
   "mimetype": "text/x-python",
   "name": "python",
   "nbconvert_exporter": "python",
   "pygments_lexer": "ipython3",
   "version": "3.7.10"
  }
 },
 "nbformat": 4,
 "nbformat_minor": 1
}
