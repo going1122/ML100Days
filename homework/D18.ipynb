{
 "cells": [
  {
   "cell_type": "code",
   "execution_count": 2,
   "id": "63dce056",
   "metadata": {},
   "outputs": [],
   "source": [
    "# 1.在速度較慢的時候，可以先從哪邊開始檢查？\n",
    "\n",
    "# 可以改成用 pkl格式，減少讀取時間\n",
    "# 使用內建函數\n",
    "# 使用向量化的資料處理函數"
   ]
  },
  {
   "cell_type": "code",
   "execution_count": 3,
   "id": "3b471331",
   "metadata": {},
   "outputs": [],
   "source": [
    "# 2.資料過大時應採取什麼方式讓記憶體占用量下降？\n",
    "\n",
    "# 欄位的型態降級減少記憶體佔用空間，例如把 float64 改成 float32"
   ]
  },
  {
   "cell_type": "code",
   "execution_count": null,
   "id": "21f61e18",
   "metadata": {},
   "outputs": [],
   "source": []
  }
 ],
 "metadata": {
  "kernelspec": {
   "display_name": "Python 3",
   "language": "python",
   "name": "python3"
  },
  "language_info": {
   "codemirror_mode": {
    "name": "ipython",
    "version": 3
   },
   "file_extension": ".py",
   "mimetype": "text/x-python",
   "name": "python",
   "nbconvert_exporter": "python",
   "pygments_lexer": "ipython3",
   "version": "3.7.10"
  }
 },
 "nbformat": 4,
 "nbformat_minor": 5
}
